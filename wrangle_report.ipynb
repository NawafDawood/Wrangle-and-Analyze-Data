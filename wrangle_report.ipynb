{
 "cells": [
  {
   "cell_type": "markdown",
   "metadata": {},
   "source": [
    "# Data wrangle report\n"
   ]
  },
  {
   "cell_type": "markdown",
   "metadata": {},
   "source": [
    "We Rate Dogs account? The We Rate Dogs account provides us with dog ratings and shows us different types of dogs with pictures of them. I will now present to you the stages that I went through during this project of mine, and wrangle consists of several stages, namely: The first stage: Data Gathering, in the second stage: Assessing Data, in the third stage: Cleaning Data, and in the last stage: Analyzing and Visualizing Data"
   ]
  },
  {
   "cell_type": "markdown",
   "metadata": {},
   "source": [
    "## In Data Gathering , \n",
    "it is the basic element and is the most important for me. I also consider it fuel, without it you cannot do anything, as this indicates its very importance.\n",
    "\n",
    "In this project, I have collected from various sources\n",
    "\n",
    "-I chose to download the Tweet JSON file programmatically using the Requests from the library"
   ]
  },
  {
   "cell_type": "markdown",
   "metadata": {},
   "source": [
    "-WeRateDogs archive on Twitter. The project provided the file and can be downloaded directly from the Udacity website. "
   ]
  },
  {
   "cell_type": "markdown",
   "metadata": {},
   "source": [
    "-image_prediction. This file is hosted by Udacity servers. I downloaded this file programmatically using the Python requests library."
   ]
  },
  {
   "cell_type": "markdown",
   "metadata": {},
   "source": [
    "-I chose to download the Tweet JSON file programmatically using the Requests from the library"
   ]
  },
  {
   "cell_type": "markdown",
   "metadata": {},
   "source": [
    "## As for the Assessing Data stage,\n",
    "here we are trying to see what the nature of the data is, and through it we extract the information for the next stage"
   ]
  },
  {
   "cell_type": "markdown",
   "metadata": {},
   "source": [
    "### Quality issues\n",
    "1.in_reply_to_status_id, in_reply_to_user_id, retweeted_status_id and retweeted_status_user_id columns are float, expected str \n",
    "\n",
    "2 tweet_id column is int, expected str\n",
    "\n",
    "3.Capitalization is inconsistent in p1 column \n",
    "\n",
    "4.datatype for timestamp should be on datetime, remove(+0000) \n",
    "\n",
    "5.only need original ratings with pictures, retweets and replies entries should be remove \n",
    "\n",
    "6.retweeted_status_timestamp and timestamp columns is str. expect datetime\n",
    "\n",
    "7.tweets starts with RT @*. just retweet \n",
    "\n",
    "8.some rows have values more than one stage \n",
    "\n",
    "### Tidiness issues\n",
    "#### archive:\n",
    "    dog stage takes four columns, expected one\n",
    "    \n",
    "    \n",
    "#### images:\n",
    "    many columns for prediction\n",
    "\n"
   ]
  },
  {
   "cell_type": "markdown",
   "metadata": {},
   "source": [
    "### As for the Cleaning Data stage, \n",
    "it is an important stage, and it contains the purpose of the project, and it comes after the Assessing stage, and from here the challenge begins to find solutions"
   ]
  },
  {
   "cell_type": "markdown",
   "metadata": {},
   "source": [
    "Finally,\n",
    "### the Analyzing and Visualizing Data stage\n",
    "comes in the end, and it is the interesting stage for me, in which some analyzes and data are presented in a simplified and understandable way."
   ]
  },
  {
   "cell_type": "code",
   "execution_count": null,
   "metadata": {},
   "outputs": [],
   "source": []
  }
 ],
 "metadata": {
  "kernelspec": {
   "display_name": "Python 3",
   "language": "python",
   "name": "python3"
  },
  "language_info": {
   "codemirror_mode": {
    "name": "ipython",
    "version": 3
   },
   "file_extension": ".py",
   "mimetype": "text/x-python",
   "name": "python",
   "nbconvert_exporter": "python",
   "pygments_lexer": "ipython3",
   "version": "3.6.3"
  }
 },
 "nbformat": 4,
 "nbformat_minor": 2
}
